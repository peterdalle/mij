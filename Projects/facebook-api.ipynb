{
 "cells": [
  {
   "cell_type": "markdown",
   "metadata": {},
   "source": [
    "# Get Facebook statuses from Python\n",
    "\n",
    "Download status updates and comments from Facebook pages and Facebook groups.\n",
    "\n",
    "Uses the [Facebook GraphAPI](https://developers.facebook.com/docs/graph-api/)."
   ]
  },
  {
   "cell_type": "markdown",
   "metadata": {},
   "source": [
    "# Facebook access token\n",
    "\n",
    "To use the Facebook GraphAPI, you need an access token. It's basically a key that unlocks the service. \n",
    "\n",
    "How to get access token:\n",
    "\n",
    "1. Go to <https://developers.facebook.com/tools/explorer/>\n",
    "2. Click button *Get Token* and then *Get User Access Token*.\n",
    "3. The box *Select Permissions* appears. Check all boxes and click *Get Access Token*.\n",
    "4. Facebook will ask for your permission. Press OK.\n",
    "5. Copy the access token - the long string that start with something like `E3OGYAACENWbS6CRz7qiFudEose0cBAMdqw...`\n",
    "6. Come back here and replace `XXX` below with your access token."
   ]
  },
  {
   "cell_type": "code",
   "execution_count": null,
   "metadata": {
    "collapsed": true
   },
   "outputs": [],
   "source": [
    "accesstoken = \"XXX\""
   ]
  },
  {
   "cell_type": "markdown",
   "metadata": {},
   "source": [
    "# Define Facebook functions\n",
    "\n",
    "Create some fuctions that will scrape Facebook pages.\n",
    "\n",
    "It is a lot of things here, but you'll only interact with these functions:\n",
    "\n",
    "- `getme()` will get information about yourself.\n",
    "- `getpage(id)` will get information about a page by its page ID, slug name or URL, and return page information.\n",
    "- `getstatuses(pageid)` will get status updates from a page by its page ID, and return a list of statuses."
   ]
  },
  {
   "cell_type": "code",
   "execution_count": null,
   "metadata": {},
   "outputs": [],
   "source": [
    "# Install facepy package to connect o Facebook API. If it doesn't work, test with pip3 instead. \n",
    "!pip install facepy"
   ]
  },
  {
   "cell_type": "code",
   "execution_count": null,
   "metadata": {},
   "outputs": [],
   "source": [
    "# Import the \"facepy\" library that talks to Facebooks API.\n",
    "from facepy.exceptions import OAuthError\n",
    "from facepy import GraphAPI\n",
    "import datetime\n",
    "\n",
    "# Function that connects to Faceboko GraphAPI and returns information about you.\n",
    "def getme():\n",
    "    print(\"Fetching yourself...\")\n",
    "    graph = GraphAPI(accesstoken, version=\"2.11\")\n",
    "    melist = graph.get(\"me?fields=id,name,email,birthday\", page=True, retry=2, limit=1)\n",
    "    for me in melist:\n",
    "        print(\"Done.\")\n",
    "        return(me)\n",
    "    print(\"Couldn't find you...\")\n",
    "\n",
    "# Function that gets information about a Facebook page.\n",
    "def getpage(id):\n",
    "    graph = GraphAPI(accesstoken, version=\"2.11\")\n",
    "    page = graph.get(str(id) + \"?fields=id,name,link,fan_count\", page=False, retry=2, limit=1)\n",
    "    return(page)\n",
    "        \n",
    "# Function to get statuses from a Facebook page.\n",
    "def getstatuses(id, limit=0):\n",
    "    fields = \"permalink_url,message,link,created_time,type,from,name,id,likes.limit(1).summary(true),comments.limit(1).summary(true),shares\"\n",
    "    if limit == 0:\n",
    "        print(\"Fetching statuses (this might take some while, consider changing the limit to speed things up)...\")\n",
    "    else:\n",
    "        print(\"Fetching statuses (limited to latest {0})...\".format(limit))\n",
    "    graph = GraphAPI(accesstoken, version=\"2.11\")\n",
    "    pages = graph.get(str(id) + \"/feed?fields=\" + fields, page=True, retry=2, limit=1)\n",
    "    l = process_pager(pages, limit)\n",
    "    print(\"Done.\")\n",
    "    print(\"Got {0} statuses.\".format(len(l)))\n",
    "    return(l)\n",
    "        \n",
    "# Function that process pager from facepy and cycle through each status message.\n",
    "def process_pager(pages, limit):\n",
    "    l = []\n",
    "    i = 0\n",
    "    for page in pages:\n",
    "        for status in page[\"data\"]:\n",
    "            l.append(process_status(status))\n",
    "            i = i + 1\n",
    "            if i >= limit and limit != 0:\n",
    "                break\n",
    "        if i >= limit and limit != 0:\n",
    "            break\n",
    "    return(l)\n",
    "\n",
    "# Function that processes a status message into a more easy-to-use dictionary.\n",
    "def process_status(status):\n",
    "    status_dict = {\n",
    "        \"fromname\": status[\"from\"][\"name\"],\n",
    "        \"fromid\": status[\"from\"][\"id\"],\n",
    "        \"id\": status[\"id\"],\n",
    "        \"type\":  status[\"type\"],\n",
    "        \"created\": process_date(status[\"created_time\"]),\n",
    "        \"message\": \"\" if \"message\" not in status.keys() else str(status[\"message\"].encode(\"utf-8\")),\n",
    "        \"link\": \"\" if \"link\" not in status.keys() else status[\"link\"],\n",
    "        \"linkname\": \"\" if \"name\" not in status.keys() else status[\"name\"].encode(\"utf-8\"),\n",
    "        \"likes\": 0 if \"likes\" not in status.keys() else status[\"likes\"][\"summary\"][\"total_count\"],\n",
    "        \"comments\": 0 if \"comments\" not in status.keys() else status[\"comments\"][\"summary\"][\"total_count\"],\n",
    "        \"shares\": 0 if \"shares\" not in status.keys() else status[\"shares\"][\"count\"],\n",
    "        \"permalink\": status[\"permalink_url\"]\n",
    "    }\n",
    "    return(status_dict)\n",
    " \n",
    "# Function that convert dates from Facebook to yyy-mm-dd hh:mm:ss.\n",
    "def process_date(strdate):\n",
    "    dt = datetime.datetime.strptime(strdate, \"%Y-%m-%dT%H:%M:%S+0000\")\n",
    "    #dt = dt + datetime.timedelta(hours = -6) # About -6 hours in Swedish time.\n",
    "    dt = dt.strftime(\"%Y-%m-%d %H:%M:%S\")\n",
    "    return(dt)"
   ]
  },
  {
   "cell_type": "markdown",
   "metadata": {},
   "source": [
    "# Get your own Facebook"
   ]
  },
  {
   "cell_type": "code",
   "execution_count": null,
   "metadata": {},
   "outputs": [],
   "source": [
    "me = getme()"
   ]
  },
  {
   "cell_type": "code",
   "execution_count": null,
   "metadata": {
    "scrolled": true
   },
   "outputs": [],
   "source": [
    "me"
   ]
  },
  {
   "cell_type": "code",
   "execution_count": null,
   "metadata": {},
   "outputs": [],
   "source": [
    "# Your name.\n",
    "print(me[\"name\"])\n",
    "\n",
    "# Your ID.\n",
    "print(me[\"id\"])\n",
    "\n",
    "# Your birthday.\n",
    "print(me[\"birthday\"])"
   ]
  },
  {
   "cell_type": "markdown",
   "metadata": {},
   "source": [
    "# Get information about Facebook page"
   ]
  },
  {
   "cell_type": "code",
   "execution_count": null,
   "metadata": {
    "collapsed": true
   },
   "outputs": [],
   "source": [
    "guardian = getpage(\"http://facebook.com/theguardian\")"
   ]
  },
  {
   "cell_type": "code",
   "execution_count": null,
   "metadata": {},
   "outputs": [],
   "source": [
    "guardian"
   ]
  },
  {
   "cell_type": "code",
   "execution_count": null,
   "metadata": {
    "scrolled": true
   },
   "outputs": [],
   "source": [
    "guardian[\"fan_count\"]"
   ]
  },
  {
   "cell_type": "code",
   "execution_count": null,
   "metadata": {
    "scrolled": true
   },
   "outputs": [],
   "source": [
    "print(\"{0} ({1}) has {2} fans and ID {3}.\".format(guardian[\"name\"], guardian[\"link\"], guardian[\"fan_count\"], guardian[\"id\"]))"
   ]
  },
  {
   "cell_type": "markdown",
   "metadata": {},
   "source": [
    "# Get status messages from Facebook page"
   ]
  },
  {
   "cell_type": "markdown",
   "metadata": {},
   "source": [
    "The status messages are stored as a dictionary object.\n",
    "\n",
    "You can see the contents by printing them like `print(status[\"id\"])`. Here are all the available names:\n",
    "\n",
    "| Status | Description |\n",
    "| :-------- | :------------ |\n",
    "| `status[\"fromname\"]` | name of sender |\n",
    "| `status[\"fromid\"]` | ID of sender |\n",
    "| `status[\"id\"]` | ID of status message |\n",
    "| `status[\"type\"]` | type of status message (e.g., link, event, picture) |\n",
    "| `status[\"created\"]` | date when message was published |\n",
    "| `status[\"message\"]` | status message |\n",
    "| `status[\"link\"]` | URL link in the status message |\n",
    "| `status[\"linkname\"]` | name of link that status message may contain |\n",
    "| `status[\"likes\"]` | number of likes status message got |\n",
    "| `status[\"comments\"]` | number of comments status message got |\n",
    "| `status[\"shares\"]` | number of shares status message got |\n",
    "| `status[\"permalink\"]` | URL link to Facebook post |"
   ]
  },
  {
   "cell_type": "code",
   "execution_count": null,
   "metadata": {
    "scrolled": false
   },
   "outputs": [],
   "source": [
    "# Get Facebook status updates from The Guardian (PageID: 10513336322).\n",
    "guardian_statuses = getstatuses(10513336322, limit=20)"
   ]
  },
  {
   "cell_type": "code",
   "execution_count": null,
   "metadata": {},
   "outputs": [],
   "source": [
    "# Show info about each status message.\n",
    "for status in guardian_statuses:\n",
    "    print(\"Created: \" + status[\"created\"])\n",
    "    print(\"Permalink: \" + status[\"permalink\"])\n",
    "    print(\"Message: \" + status[\"message\"][:60])\n",
    "    print(\"Info: {0} likes, {1} shares, {2} comments\".format(status[\"likes\"], status[\"shares\"], status[\"comments\"]))\n",
    "    print()"
   ]
  },
  {
   "cell_type": "code",
   "execution_count": null,
   "metadata": {},
   "outputs": [],
   "source": [
    "# Lets count the number of links among all status messages.\n",
    "\n",
    "# Counter to store the number of links.\n",
    "i = 0\n",
    "\n",
    "# Get the number of total status messages. len() means length.\n",
    "total_statuses = len(guardian_statuses)\n",
    "\n",
    "# How many statuses are links? Do a for-loop and increment the counter with 1 if it is a link.\n",
    "for status in guardian_statuses:\n",
    "    if status[\"type\"] == \"link\":\n",
    "        i = i + 1\n",
    "\n",
    "print(\"There are {0} status messages and {1} of them are links.\".format(total_statuses, i))"
   ]
  },
  {
   "cell_type": "code",
   "execution_count": null,
   "metadata": {},
   "outputs": [],
   "source": [
    "# Descriptive statistics: how many likes did they get in total?\n",
    "total_likes = 0\n",
    "for status in guardian_statuses:\n",
    "    total_likes = total_likes + status[\"likes\"]\n",
    "\n",
    "print(\"Total {0} likes.\".format(total_likes))"
   ]
  }
 ],
 "metadata": {
  "kernelspec": {
   "display_name": "Python 3",
   "language": "python",
   "name": "python3"
  },
  "language_info": {
   "codemirror_mode": {
    "name": "ipython",
    "version": 3
   },
   "file_extension": ".py",
   "mimetype": "text/x-python",
   "name": "python",
   "nbconvert_exporter": "python",
   "pygments_lexer": "ipython3",
   "version": "3.6.1"
  }
 },
 "nbformat": 4,
 "nbformat_minor": 2
}
