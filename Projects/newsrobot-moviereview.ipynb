{
 "cells": [
  {
   "cell_type": "markdown",
   "metadata": {},
   "source": [
    "# Web scraping of IMDb and write movie review\n",
    "\n",
    "Simple news robot that gets movie title, director, rating, actors etc. from [Internet Movie Database](http://www.imdb.com/) and automatically writes a very short review."
   ]
  },
  {
   "cell_type": "markdown",
   "metadata": {},
   "source": [
    "## Import libraries and create functions\n",
    "\n",
    "`BeautifulSoup4` and `lxml` is two libraries that are used to extract contents from web pages. You may need to install them with `pip`."
   ]
  },
  {
   "cell_type": "code",
   "execution_count": null,
   "metadata": {
    "scrolled": true
   },
   "outputs": [],
   "source": [
    "# Install libraries. Try pip3 instead if it doesn't work.\n",
    "!pip install BeautifulSoup4\n",
    "!pip install lxml"
   ]
  },
  {
   "cell_type": "code",
   "execution_count": null,
   "metadata": {
    "collapsed": true
   },
   "outputs": [],
   "source": [
    "# Import libraries.\n",
    "from urllib import request\n",
    "from lxml import html\n",
    "from bs4 import BeautifulSoup\n",
    "import ssl\n",
    "\n",
    "# Function to scrape HTML from web page.\n",
    "def scrapewebpage(url):\n",
    "    UseSSL = True  # If you get SSLError, change this to False.\n",
    "    if UseSSL:\n",
    "        web = request.urlopen(url)\n",
    "    else:\n",
    "        web = request.urlopen(url, context=ssl._create_unverified_context())\n",
    "    if web.getcode() == 200:\n",
    "        return(web.read())\n",
    "    else:\n",
    "        print(\"Error %s reading %s\" % str(web.getcode()), url)\n",
    "\n",
    "# Helper function that scrape web page and return BeautifulSoup object.\n",
    "def makesoup(url):\n",
    "    html = scrapewebpage(url)\n",
    "    return(BeautifulSoup(html, \"lxml-xml\"))"
   ]
  },
  {
   "cell_type": "markdown",
   "metadata": {},
   "source": [
    "## Scrape Internet Movie Database\n",
    "\n",
    "Here we'll extract information from the HTML code. This is the hard part. Luckily, we already have a lot of information here."
   ]
  },
  {
   "cell_type": "code",
   "execution_count": null,
   "metadata": {
    "collapsed": true
   },
   "outputs": [],
   "source": [
    "# Scrape movie Interstellar (2014).\n",
    "soup = makesoup('http://www.imdb.com/title/tt0816692/')"
   ]
  },
  {
   "cell_type": "code",
   "execution_count": null,
   "metadata": {
    "collapsed": true
   },
   "outputs": [],
   "source": [
    "# Movie ID.\n",
    "movieid = soup.find(property=\"pageId\").get(\"content\")\n",
    "\n",
    "# Movie URL.\n",
    "movielink = 'http://www.imdb.com/title/' + movieid + '/'\n",
    "\n",
    "# Title.\n",
    "title = soup.find(itemprop=\"name\").get_text()\n",
    "title = title.strip() # Remove white spaces before and after title.\n",
    "\n",
    "# Year.\n",
    "year = soup.find(id=\"titleYear\").get_text()\n",
    "year = year[1:5] # Remove parentheses, so that (2014) becomes 2014.\n",
    "year = int(year) # Year is a string now, int() will convert it to an integer (number).\n",
    "\n",
    "# Remove year from title.\n",
    "titleclean = title.replace(\"(\" + str(year) + \")\", \"\").strip()\n",
    "\n",
    "# Length of movie.\n",
    "duration = soup.find(itemprop=\"duration\").get_text()\n",
    "duration = duration.strip() # Remove white spaces before and after.\n",
    "\n",
    "# Movie director.\n",
    "director = soup.find(itemprop=\"director\").find(itemprop=\"name\").get_text()\n",
    "director = director.strip() # Remove white spaces before and after.\n",
    "\n",
    "# Movie rating.\n",
    "rating = soup.find(itemprop=\"ratingValue\").get_text()\n",
    "rating = float(rating) # Float makes rating into a decimal number, like 6.8.\n",
    "\n",
    "# Create a list of main actors.\n",
    "actors = []\n",
    "for castlist in soup.find_all(\"table\", \"cast_list\"):\n",
    "\tfor actor in castlist.find_all(itemprop=\"name\"):\n",
    "\t\tactors.append(actor.get_text().strip())"
   ]
  },
  {
   "cell_type": "markdown",
   "metadata": {},
   "source": [
    "## Print the result"
   ]
  },
  {
   "cell_type": "code",
   "execution_count": null,
   "metadata": {
    "scrolled": false
   },
   "outputs": [],
   "source": [
    "print(\"Title:    \" + titleclean)\n",
    "print(\"Year:     \" + str(year))\n",
    "print(\"Director: \" + director)\n",
    "print(\"Duration: \" + duration)\n",
    "print(\"Rating:   \" + str(rating))\n",
    "print(\"Actors:\")\n",
    "for actor in actors:\n",
    "\tprint(\"- \" + actor)"
   ]
  },
  {
   "cell_type": "markdown",
   "metadata": {},
   "source": [
    "## Create news article\n",
    "\n",
    "The title of the news article is based on the movie rating."
   ]
  },
  {
   "cell_type": "code",
   "execution_count": null,
   "metadata": {},
   "outputs": [],
   "source": [
    "# The higher the rating, the more spectacular title of the news article.\n",
    "if rating == 10:\n",
    "    newstitle = \"The master piece {0} ({1}) by {2}\".format(titleclean, year, director)\n",
    "elif rating < 10 and rating > 7:\n",
    "    newstitle = \"Impressive {0} ({1}) by {2}\".format(titleclean, year, director)\n",
    "elif rating <= 7 and rating >= 4:\n",
    "    newstitle = \"{0} ({1}) by {2}\".format(titleclean, year, director)\n",
    "elif rating < 4:\n",
    "    newstitle = \"{0} by {2} is the worst movie of {1}\".format(titleclean, year, director)"
   ]
  },
  {
   "cell_type": "code",
   "execution_count": null,
   "metadata": {},
   "outputs": [],
   "source": [
    "newstitle"
   ]
  },
  {
   "cell_type": "code",
   "execution_count": null,
   "metadata": {
    "collapsed": true
   },
   "outputs": [],
   "source": [
    "# Number of years ago the movie was produced.\n",
    "import datetime\n",
    "now = datetime.datetime.now()\n",
    "\n",
    "yearsago = now.year - year"
   ]
  },
  {
   "cell_type": "code",
   "execution_count": null,
   "metadata": {},
   "outputs": [],
   "source": [
    "yearsago"
   ]
  },
  {
   "cell_type": "code",
   "execution_count": null,
   "metadata": {
    "collapsed": true
   },
   "outputs": [],
   "source": [
    "# Body text of the news article.\n",
    "newsbody = \"\"\"{0} by {1} was produced {2} years ago and have gotten the rating {3} on the movie site IMDb.\n",
    "\n",
    "{4} and {5} is in the leading cast.\n",
    "\n",
    "{6}\n",
    "\"\"\".format(titleclean, director, yearsago, rating, actors[0], actors[1], movielink)"
   ]
  },
  {
   "cell_type": "markdown",
   "metadata": {},
   "source": [
    "## Print news article"
   ]
  },
  {
   "cell_type": "code",
   "execution_count": null,
   "metadata": {},
   "outputs": [],
   "source": [
    "print(newstitle.upper())\n",
    "print()\n",
    "print(newsbody)"
   ]
  }
 ],
 "metadata": {
  "kernelspec": {
   "display_name": "Python 3",
   "language": "python",
   "name": "python3"
  },
  "language_info": {
   "codemirror_mode": {
    "name": "ipython",
    "version": 3
   },
   "file_extension": ".py",
   "mimetype": "text/x-python",
   "name": "python",
   "nbconvert_exporter": "python",
   "pygments_lexer": "ipython3",
   "version": "3.6.1"
  }
 },
 "nbformat": 4,
 "nbformat_minor": 2
}
