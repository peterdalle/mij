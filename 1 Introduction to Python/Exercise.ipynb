{
 "cells": [
  {
   "cell_type": "markdown",
   "metadata": {},
   "source": [
    "# Exercise 1: Basics\n",
    "\n",
    "Goals:\n",
    "- Manipulate text and number variables\n",
    "- Print text and numbers together\n",
    "- Control program flow with `if`, and `for`\n",
    "- Encapsulate related things into functions with `def`"
   ]
  },
  {
   "cell_type": "markdown",
   "metadata": {},
   "source": [
    "## 1. Print variables\n",
    "\n",
    "**Exercise:** Print the contents of these variables."
   ]
  },
  {
   "cell_type": "code",
   "execution_count": null,
   "metadata": {
    "collapsed": true
   },
   "outputs": [],
   "source": [
    "Name = \"John Doe\"              # String.\n",
    "Age = 40                       # Integer.\n",
    "Height = 180.3                 # Float.\n",
    "Married = True                 # Boolean (True/False).\n",
    "Children = [\"Emma\", \"Thomas\"]  # List.\n",
    "Female = False                 # Boolean (True/False).\n",
    "Interests = []                 # Empty list."
   ]
  },
  {
   "cell_type": "markdown",
   "metadata": {},
   "source": [
    "## 2. Convert celsius to fahrenheit\n",
    "\n",
    "**Exercise:** Convert celsius to fahrenheit and store it a new variable. Use this equation: `celsius * 1.8 + 32`\n",
    "\n",
    "Present the results in this format: 5 celsius is XXX fahrenheit."
   ]
  },
  {
   "cell_type": "code",
   "execution_count": null,
   "metadata": {
    "collapsed": false
   },
   "outputs": [],
   "source": [
    "celsius = 5"
   ]
  },
  {
   "cell_type": "code",
   "execution_count": null,
   "metadata": {
    "collapsed": true
   },
   "outputs": [],
   "source": [
    "# Write here"
   ]
  },
  {
   "cell_type": "markdown",
   "metadata": {},
   "source": [
    "## 3. Calculate percentage\n",
    "\n",
    "**Exercise:** Caculate the percentage of people who are employed.\n",
    "\n",
    "Present the results in this format: 11.4 %"
   ]
  },
  {
   "cell_type": "code",
   "execution_count": null,
   "metadata": {
    "collapsed": true
   },
   "outputs": [],
   "source": [
    "population = 10000000\n",
    "employed = 4568600"
   ]
  },
  {
   "cell_type": "code",
   "execution_count": null,
   "metadata": {
    "collapsed": false,
    "scrolled": true
   },
   "outputs": [],
   "source": [
    "# Round to 1 decimal.\n",
    "round(3.3333333333, 1)"
   ]
  },
  {
   "cell_type": "markdown",
   "metadata": {},
   "source": [
    "## 4. Manipulate text\n",
    "\n",
    "**Exercise:** Replace Johns last name with your own."
   ]
  },
  {
   "cell_type": "code",
   "execution_count": null,
   "metadata": {
    "collapsed": false
   },
   "outputs": [],
   "source": [
    "Name = \"John Doe\"\n",
    "text = \"The quick brown fox jumps over the lazy dog\""
   ]
  },
  {
   "cell_type": "code",
   "execution_count": null,
   "metadata": {
    "collapsed": false
   },
   "outputs": [],
   "source": [
    "# Show the first, and fifth character.\n",
    "print(text[0]) # Note, it starts with 0!\n",
    "print(text[4])"
   ]
  },
  {
   "cell_type": "code",
   "execution_count": null,
   "metadata": {
    "collapsed": false
   },
   "outputs": [],
   "source": [
    "# Show the first 3 characters.\n",
    "print(text[0:3])"
   ]
  },
  {
   "cell_type": "code",
   "execution_count": null,
   "metadata": {
    "collapsed": false
   },
   "outputs": [],
   "source": [
    "# Replace text.\n",
    "print(text.replace(\"fox\", \"journalist\"))"
   ]
  },
  {
   "cell_type": "code",
   "execution_count": null,
   "metadata": {
    "collapsed": false
   },
   "outputs": [],
   "source": [
    "# Make text lower case, UPPER CASE or Title Case.\n",
    "print(text.lower())\n",
    "print(text.upper())\n",
    "print(text.title())"
   ]
  },
  {
   "cell_type": "code",
   "execution_count": null,
   "metadata": {
    "collapsed": false
   },
   "outputs": [],
   "source": [
    "# Character length.\n",
    "len(text)"
   ]
  },
  {
   "cell_type": "code",
   "execution_count": null,
   "metadata": {
    "collapsed": false,
    "scrolled": true
   },
   "outputs": [],
   "source": [
    "# Find the word \"quick\". Returns position of first character.\n",
    "print(text.find(\"quick\"))"
   ]
  },
  {
   "cell_type": "code",
   "execution_count": null,
   "metadata": {
    "collapsed": false
   },
   "outputs": [],
   "source": [
    "# What happens when we don't find the word? It returns -1.\n",
    "print(text.find(\"journalism\"))"
   ]
  },
  {
   "cell_type": "markdown",
   "metadata": {},
   "source": [
    "## 5. If-statements\n",
    "\n",
    "**Exercise:** If John is a male and married, print his age. But if John is male and unmarried, print his height.\n",
    "\n",
    "Use `if` and `elif`."
   ]
  },
  {
   "cell_type": "code",
   "execution_count": null,
   "metadata": {
    "collapsed": true
   },
   "outputs": [],
   "source": [
    "Name = \"John Doe\"              # String.\n",
    "Age = 40                       # Integer.\n",
    "Height = 180.3                 # Float.\n",
    "Married = True                 # Boolean (True/False).\n",
    "Children = [\"Emma\", \"Thomas\"]  # List.\n",
    "Female = False                 # Boolean (True/False).\n",
    "Interests = []                 # Empty list."
   ]
  },
  {
   "cell_type": "code",
   "execution_count": null,
   "metadata": {
    "collapsed": false
   },
   "outputs": [],
   "source": [
    "if Age == 40:\n",
    "    print(Name + \" is 40 years old.\")\n",
    "else:\n",
    "    print(Name + \" is not 40 years old.\")"
   ]
  },
  {
   "cell_type": "markdown",
   "metadata": {},
   "source": [
    "## 6. For loops\n",
    "\n",
    "**Exercise:** Print names of all children that does *not* have the name \"Emma\"."
   ]
  },
  {
   "cell_type": "code",
   "execution_count": null,
   "metadata": {
    "collapsed": false
   },
   "outputs": [],
   "source": [
    "# Print a range of numbers.\n",
    "for i in range(5):\n",
    "    print(i)"
   ]
  },
  {
   "cell_type": "code",
   "execution_count": null,
   "metadata": {
    "collapsed": false,
    "scrolled": true
   },
   "outputs": [],
   "source": [
    "# Print each name in the list.\n",
    "for name in Children:\n",
    "    print(name)"
   ]
  },
  {
   "cell_type": "markdown",
   "metadata": {},
   "source": [
    "## 7. Functions\n",
    "\n",
    "**Exercise:** Write a function that check how many names starts with the letter E.\n",
    "\n",
    "Break the task down in steps:\n",
    "\n",
    "1. Create a new variable called `e_letters` with the value `0`. It will store the number of names with E.\n",
    "2. Loop through the list of names.\n",
    "3. For each name, check if name starts with the letter E.\n",
    "    - Use `name.startswith(\"E\")` function.\n",
    "    - If True, increase `e_letters` with 1."
   ]
  },
  {
   "cell_type": "code",
   "execution_count": null,
   "metadata": {
    "collapsed": true
   },
   "outputs": [],
   "source": [
    "# A function that multiples two numbers together.\n",
    "def calc(x, y):\n",
    "    return(x * y)"
   ]
  },
  {
   "cell_type": "code",
   "execution_count": null,
   "metadata": {
    "collapsed": false
   },
   "outputs": [],
   "source": [
    "calc(10, 5)"
   ]
  },
  {
   "cell_type": "code",
   "execution_count": null,
   "metadata": {
    "collapsed": true
   },
   "outputs": [],
   "source": [
    "-"
   ]
  },
  {
   "cell_type": "code",
   "execution_count": null,
   "metadata": {
    "collapsed": false
   },
   "outputs": [],
   "source": [
    "# Number of names in the list.\n",
    "len(names)"
   ]
  },
  {
   "cell_type": "code",
   "execution_count": null,
   "metadata": {
    "collapsed": false,
    "scrolled": false
   },
   "outputs": [],
   "source": [
    "def countE(names):\n",
    "    # Write here..."
   ]
  }
 ],
 "metadata": {
  "anaconda-cloud": {},
  "kernelspec": {
   "display_name": "Python [default]",
   "language": "python",
   "name": "python3"
  },
  "language_info": {
   "codemirror_mode": {
    "name": "ipython",
    "version": 3
   },
   "file_extension": ".py",
   "mimetype": "text/x-python",
   "name": "python",
   "nbconvert_exporter": "python",
   "pygments_lexer": "ipython3",
   "version": "3.5.2"
  }
 },
 "nbformat": 4,
 "nbformat_minor": 0
}
