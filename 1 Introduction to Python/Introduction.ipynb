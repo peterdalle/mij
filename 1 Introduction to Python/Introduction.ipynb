{
 "cells": [
  {
   "cell_type": "markdown",
   "metadata": {},
   "source": [
    "# Introduction to Python and Jupyter Notebook\n",
    "\n",
    "## Install\n",
    "\n",
    "We will use **Anaconda** which contains Python, Jupyter Notebooks, and common libraries.\n",
    "\n",
    "Download Anaconda from https://www.continuum.io/downloads. Choose Python 3.5 installer (64-bit, or 32-bit if you are unsure)."
   ]
  },
  {
   "cell_type": "markdown",
   "metadata": {},
   "source": [
    "## Hello World!\n",
    "\n",
    "Lets make sure everything is working."
   ]
  },
  {
   "cell_type": "code",
   "execution_count": null,
   "metadata": {
    "collapsed": false
   },
   "outputs": [],
   "source": [
    "print(\"Hello World!\")"
   ]
  },
  {
   "cell_type": "code",
   "execution_count": null,
   "metadata": {
    "collapsed": false
   },
   "outputs": [],
   "source": [
    "# You can write comments like this.\n",
    "print(\"Hello World!\") # Or here."
   ]
  },
  {
   "cell_type": "code",
   "execution_count": null,
   "metadata": {
    "collapsed": false
   },
   "outputs": [],
   "source": [
    "# Note: you can't use upper case.\n",
    "PRINT(\"Hello World!\")"
   ]
  },
  {
   "cell_type": "markdown",
   "metadata": {},
   "source": [
    "## Jupyter Notebooks\n",
    "\n",
    "Some things are specific to Jupyter Notebooks, like these:\n",
    "\n",
    "**Keyboard Shortcuts**\n",
    "\n",
    "- **`Ctrl+Enter`** = run cell\n",
    "- **`ESC`** = exit out of a cell\n",
    "- **`Tab`** = autocomplete\n",
    "- **`a`** = insert cell above\n",
    "- **`b`** = insert cell below\n",
    "\n",
    "Read more at [28 Jupyter Notebook tips, tricks and shortcuts](https://www.dataquest.io/blog/jupyter-notebook-tips-tricks-shortcuts/)"
   ]
  },
  {
   "cell_type": "code",
   "execution_count": null,
   "metadata": {
    "collapsed": true
   },
   "outputs": [],
   "source": [
    "# Get help with a command by putting ? in front of it.\n",
    "?print"
   ]
  },
  {
   "cell_type": "code",
   "execution_count": null,
   "metadata": {
    "collapsed": false,
    "scrolled": false
   },
   "outputs": [],
   "source": [
    "# Run file on your computer.\n",
    "%run 00-hello-world.py"
   ]
  },
  {
   "cell_type": "code",
   "execution_count": null,
   "metadata": {
    "collapsed": false
   },
   "outputs": [],
   "source": [
    "%%time \n",
    "# How long does the code take to execute? Put %%time at the top to find out.\n",
    "# Do a loop 10 million times.\n",
    "for i in range(10000000):\n",
    "    pass"
   ]
  },
  {
   "cell_type": "markdown",
   "metadata": {},
   "source": [
    "## Variabes\n",
    "\n",
    "Assign values to a variable. Variable names must start with a letter. No spaces allowed. Digits are OK."
   ]
  },
  {
   "cell_type": "code",
   "execution_count": null,
   "metadata": {
    "collapsed": false
   },
   "outputs": [],
   "source": [
    "Name = \"John Doe\"              # String.\n",
    "Age = 40                       # Integer.\n",
    "Height = 180.3                 # Float.\n",
    "Married = True                 # Boolean (True/False).\n",
    "Children = [\"Emma\", \"Thomas\"]  # List."
   ]
  },
  {
   "cell_type": "code",
   "execution_count": null,
   "metadata": {
    "collapsed": false
   },
   "outputs": [],
   "source": [
    "# Print the contents of variable.\n",
    "Age"
   ]
  },
  {
   "cell_type": "code",
   "execution_count": null,
   "metadata": {
    "collapsed": false
   },
   "outputs": [],
   "source": [
    "# Print many at the same time.\n",
    "print(Name)\n",
    "print(Age)\n",
    "print(Height)\n",
    "print(Married)\n",
    "print(Children)"
   ]
  },
  {
   "cell_type": "markdown",
   "metadata": {},
   "source": [
    "## Change variables"
   ]
  },
  {
   "cell_type": "code",
   "execution_count": null,
   "metadata": {
    "collapsed": false
   },
   "outputs": [],
   "source": [
    "# Change the value.\n",
    "Age = Age + 10\n",
    "print(Age)"
   ]
  },
  {
   "cell_type": "code",
   "execution_count": null,
   "metadata": {
    "collapsed": false
   },
   "outputs": [],
   "source": [
    "# We can't add a number to a string.\n",
    "Name + Age"
   ]
  },
  {
   "cell_type": "code",
   "execution_count": null,
   "metadata": {
    "collapsed": false
   },
   "outputs": [],
   "source": [
    "# We need to convert age to string.\n",
    "mytext = Name + str(Age)\n",
    "print(mytext)"
   ]
  }
 ],
 "metadata": {
  "anaconda-cloud": {},
  "kernelspec": {
   "display_name": "Python [default]",
   "language": "python",
   "name": "python3"
  },
  "language_info": {
   "codemirror_mode": {
    "name": "ipython",
    "version": 3
   },
   "file_extension": ".py",
   "mimetype": "text/x-python",
   "name": "python",
   "nbconvert_exporter": "python",
   "pygments_lexer": "ipython3",
   "version": "3.5.2"
  }
 },
 "nbformat": 4,
 "nbformat_minor": 0
}
