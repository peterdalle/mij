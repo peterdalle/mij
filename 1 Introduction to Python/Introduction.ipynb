{
 "cells": [
  {
   "cell_type": "markdown",
   "metadata": {},
   "source": [
    "# Introduction to Python and Jupyter Notebook\n",
    "\n",
    "## Install\n",
    "\n",
    "We will use **Anaconda** which contains Python, Jupyter Notebooks, and common libraries.\n",
    "\n",
    "Download Anaconda from https://www.continuum.io/downloads. Choose Python 3.5 installer 64-bit (or 32-bit if you are unsure)."
   ]
  },
  {
   "cell_type": "markdown",
   "metadata": {},
   "source": [
    "## Hello World!\n",
    "\n",
    "Lets make sure everything is working."
   ]
  },
  {
   "cell_type": "code",
   "execution_count": null,
   "metadata": {
    "collapsed": false
   },
   "outputs": [],
   "source": [
    "print(\"Hello World!\")"
   ]
  },
  {
   "cell_type": "code",
   "execution_count": null,
   "metadata": {
    "collapsed": false
   },
   "outputs": [],
   "source": [
    "# We can write comments like this.\n",
    "print(\"Hello World!\") # Or here. You can write anything you want.\n",
    "\n",
    "# It's a good way of describing what your code does."
   ]
  },
  {
   "cell_type": "code",
   "execution_count": null,
   "metadata": {
    "collapsed": false
   },
   "outputs": [],
   "source": [
    "# Note: we can't use upper case. We will get a \"NameError\".\n",
    "PRINT(\"Hello World!\")"
   ]
  },
  {
   "cell_type": "markdown",
   "metadata": {},
   "source": [
    "## Jupyter Notebooks\n",
    "\n",
    "Some things are specific to Jupyter Notebooks, like these:\n",
    "\n",
    "**Keyboard Shortcuts**\n",
    "\n",
    "- **`Ctrl+Enter`** = run cell\n",
    "- **`ESC`** = exit out of a cell\n",
    "- **`Tab`** = autocomplete\n",
    "- **`a`** = insert cell above\n",
    "- **`b`** = insert cell below\n",
    "- **`dd`** = delete cell\n",
    "\n",
    "The Jupyter Notebook files are saved on your computer, in your [home directory](https://en.wikipedia.org/wiki/Home_directory).\n",
    "\n",
    "Read more at [28 Jupyter Notebook tips, tricks and shortcuts](https://www.dataquest.io/blog/jupyter-notebook-tips-tricks-shortcuts/)"
   ]
  },
  {
   "cell_type": "code",
   "execution_count": null,
   "metadata": {
    "collapsed": true
   },
   "outputs": [],
   "source": [
    "# Get help with a command by putting ? in front of it.\n",
    "?print"
   ]
  },
  {
   "cell_type": "code",
   "execution_count": null,
   "metadata": {
    "collapsed": false,
    "scrolled": false
   },
   "outputs": [],
   "source": [
    "# Run file on your computer.\n",
    "%run 00-hello-world.py"
   ]
  },
  {
   "cell_type": "code",
   "execution_count": null,
   "metadata": {
    "collapsed": false
   },
   "outputs": [],
   "source": [
    "%%time \n",
    "# How long does the code take to execute? Put %%time at the top to find out.\n",
    "# Loop 10 million times.\n",
    "for i in range(10000000):\n",
    "    pass"
   ]
  },
  {
   "cell_type": "markdown",
   "metadata": {},
   "source": [
    "## Python as a calculator"
   ]
  },
  {
   "cell_type": "code",
   "execution_count": null,
   "metadata": {
    "collapsed": false
   },
   "outputs": [],
   "source": [
    "10 + 5"
   ]
  },
  {
   "cell_type": "markdown",
   "metadata": {},
   "source": [
    "## Variabes\n",
    "\n",
    "Assign values to a variable. Variable names must start with a letter. No spaces allowed. Digits are OK."
   ]
  },
  {
   "cell_type": "code",
   "execution_count": null,
   "metadata": {
    "collapsed": false
   },
   "outputs": [],
   "source": [
    "Name = \"John Doe\"              # String.\n",
    "Age = 40                       # Integer.\n",
    "Height = 180.3                 # Float.\n",
    "Married = True                 # Boolean (True/False).\n",
    "Children = [\"Emma\", \"Thomas\"]  # List."
   ]
  },
  {
   "cell_type": "code",
   "execution_count": null,
   "metadata": {
    "collapsed": false
   },
   "outputs": [],
   "source": [
    "# Print the contents of variable.\n",
    "Age"
   ]
  },
  {
   "cell_type": "code",
   "execution_count": null,
   "metadata": {
    "collapsed": false
   },
   "outputs": [],
   "source": [
    "# Print many at the same time.\n",
    "print(Name)\n",
    "print(Age)\n",
    "print(Height)\n",
    "print(Married)\n",
    "print(Children)"
   ]
  },
  {
   "cell_type": "markdown",
   "metadata": {},
   "source": [
    "## Change variables"
   ]
  },
  {
   "cell_type": "code",
   "execution_count": null,
   "metadata": {
    "collapsed": false
   },
   "outputs": [],
   "source": [
    "# Change the value.\n",
    "Age = Age + 10\n",
    "print(Age)"
   ]
  },
  {
   "cell_type": "code",
   "execution_count": null,
   "metadata": {
    "collapsed": false,
    "scrolled": true
   },
   "outputs": [],
   "source": [
    "# We can't add numbers to strings. We will get a \"TypeError\".\n",
    "Name + Age"
   ]
  },
  {
   "cell_type": "code",
   "execution_count": null,
   "metadata": {
    "collapsed": false
   },
   "outputs": [],
   "source": [
    "# We need to convert age to string.\n",
    "mytext = Name + str(Age)\n",
    "print(mytext)"
   ]
  },
  {
   "cell_type": "markdown",
   "metadata": {},
   "source": [
    "## Strings and string manipulation"
   ]
  },
  {
   "cell_type": "code",
   "execution_count": null,
   "metadata": {
    "collapsed": true
   },
   "outputs": [],
   "source": [
    "text = \"The quick brown fox jumps over the lazy dog\""
   ]
  },
  {
   "cell_type": "code",
   "execution_count": null,
   "metadata": {
    "collapsed": false
   },
   "outputs": [],
   "source": [
    "# Get single characters from the text string.\n",
    "print(text[0])  # Get the first character\n",
    "print(text[4])  # Get the fifth character"
   ]
  },
  {
   "cell_type": "code",
   "execution_count": null,
   "metadata": {
    "collapsed": false
   },
   "outputs": [],
   "source": [
    "# Show the characters between 4th and 9th position (the word \"quick\").\n",
    "print(text[4:9])"
   ]
  },
  {
   "cell_type": "code",
   "execution_count": null,
   "metadata": {
    "collapsed": false
   },
   "outputs": [],
   "source": [
    "# Replace \"dog\" with \"journalist.\n",
    "text.replace(\"dog\", \"journalist\")"
   ]
  },
  {
   "cell_type": "code",
   "execution_count": null,
   "metadata": {
    "collapsed": false
   },
   "outputs": [],
   "source": [
    "# Make the text upper case, lower case, or title case.\n",
    "print(text.upper())\n",
    "print(text.lower())\n",
    "print(text.title())"
   ]
  },
  {
   "cell_type": "code",
   "execution_count": null,
   "metadata": {
    "collapsed": false
   },
   "outputs": [],
   "source": [
    "# Get the length of the text string.\n",
    "len(text)"
   ]
  },
  {
   "cell_type": "code",
   "execution_count": null,
   "metadata": {
    "collapsed": false,
    "scrolled": true
   },
   "outputs": [],
   "source": [
    "# Find where the position where \"dog\" starts.\n",
    "print(text.find(\"dog\"))\n",
    "\n",
    "# If we search for something that is not in the text string, -1 will be returned.\n",
    "print(text.find(\"candy\"))"
   ]
  },
  {
   "cell_type": "code",
   "execution_count": null,
   "metadata": {
    "collapsed": false
   },
   "outputs": [],
   "source": [
    "# Lets combine many things!\n",
    "\n",
    "# First, we save the text to a new variable so we can keep the old.\n",
    "newtext = text\n",
    "\n",
    "# Then, we do a lot of replacements.\n",
    "newtext = newtext.replace(\"quick\", \"depressed\")\n",
    "newtext = newtext.replace(\"fox\", \"elephant\")\n",
    "newtext = newtext.replace(\"lazy\", \"even more depressed\")\n",
    "newtext = newtext.replace(\"dog\", \"journalist\")\n",
    "\n",
    "# After that, we title case it to make it look prettier.\n",
    "newtext = newtext.title()\n",
    "\n",
    "print(newtext)"
   ]
  },
  {
   "cell_type": "markdown",
   "metadata": {},
   "source": [
    "## If-statements\n",
    "\n",
    "- `if`, `elif`, and `else`\n",
    "- Don't forget to indent\n",
    "- Checks whether expression is `True` or `False`\n",
    "\n",
    "**Comparisons**\n",
    "```\n",
    "age == 25     # Equal\n",
    "age != 25     # Does not equal\n",
    "age > 25      # Above 25\n",
    "age < 25      # Below 25\n",
    "age >= 25     # 25 or above\n",
    "age <= 25     # 25 or below\n",
    "```\n",
    "\n",
    "**Combine comparisons**\n",
    "\n",
    "- `or` means that any conditional have to be `True`\n",
    "- `and` means that all conditional have to be `True`\n",
    "\n",
    "```\n",
    "age == 18 and height == 175 or name == \"Jonas\"\n",
    "```"
   ]
  },
  {
   "cell_type": "code",
   "execution_count": null,
   "metadata": {
    "collapsed": false
   },
   "outputs": [],
   "source": [
    "# First, we assign a value to the variable \"Name\" and \"Age\".\n",
    "Name = \"John Doe\"\n",
    "Age = 40\n",
    "\n",
    "# Check if age equals 40.\n",
    "if Age == 40:\n",
    "    print(Name + \" is 40 years old.\")\n",
    "else:\n",
    "    print(Name + \" is not 40 years old.\")"
   ]
  },
  {
   "cell_type": "code",
   "execution_count": null,
   "metadata": {
    "collapsed": false
   },
   "outputs": [],
   "source": [
    "# Lets change the age.\n",
    "Age = 24\n",
    "\n",
    "# Check many things at once: Is 40 years old? If not, is he above 40? If not,\n",
    "# is he above 20 and below 40? If we can't find any match, run the code under \"else\".\n",
    "if Age == 40:\n",
    "    print(Name + \" is 40 years old.\")\n",
    "elif Age > 40:\n",
    "    print(Name + \" is above 40 years old.\")\n",
    "elif Age > 20 and Age < 40:\n",
    "    print(Name + \" is above 20 and below 40.\")\n",
    "else:\n",
    "    print(Name + \" is 20 years or younger.\")"
   ]
  },
  {
   "cell_type": "markdown",
   "metadata": {},
   "source": [
    "## For loops\n",
    "\n",
    "- `range(to)`\n",
    "- `range(from, to, step)`\n",
    "- can also use for with `list`"
   ]
  },
  {
   "cell_type": "code",
   "execution_count": null,
   "metadata": {
    "collapsed": false,
    "scrolled": true
   },
   "outputs": [],
   "source": [
    "# Loop 5 times.\n",
    "for i in range(5):\n",
    "    print(i)"
   ]
  },
  {
   "cell_type": "code",
   "execution_count": null,
   "metadata": {
    "collapsed": false
   },
   "outputs": [],
   "source": [
    "# Loop from 0 to 100, by ever 25.\n",
    "for i in range(0, 100, 25):\n",
    "    print(i)"
   ]
  },
  {
   "cell_type": "code",
   "execution_count": null,
   "metadata": {
    "collapsed": false,
    "scrolled": true
   },
   "outputs": [],
   "source": [
    "# We can use for loops on lists.\n",
    "Children = [\"Emma\", \"Thomas\", \"Nicole\"]    # Make a list with 3 text strings.\n",
    "\n",
    "for child in Children:\n",
    "    print(child)"
   ]
  },
  {
   "cell_type": "code",
   "execution_count": null,
   "metadata": {
    "collapsed": false,
    "scrolled": true
   },
   "outputs": [],
   "source": [
    "# We can use for loops on numbers.\n",
    "YearsOld = [14, 5, 4]    # Make a list with 3 numbers.\n",
    "\n",
    "for age in YearsOld:\n",
    "    print(age)"
   ]
  },
  {
   "cell_type": "markdown",
   "metadata": {},
   "source": [
    "## Functions\n",
    "\n",
    "Group things together with functions."
   ]
  },
  {
   "cell_type": "code",
   "execution_count": null,
   "metadata": {
    "collapsed": true
   },
   "outputs": [],
   "source": [
    "# A function that we name \"calc\" that multiples two numbers together. \n",
    "# It takes to variables as input (x and y).\n",
    "# The function then returns the results of the multiplication.\n",
    "def calc(x, y):\n",
    "    return(x * y)"
   ]
  },
  {
   "cell_type": "code",
   "execution_count": null,
   "metadata": {
    "collapsed": false
   },
   "outputs": [],
   "source": [
    "# Now we just use the name of the function.\n",
    "calc(10, 5)"
   ]
  },
  {
   "cell_type": "markdown",
   "metadata": {},
   "source": [
    "## Combine everything\n",
    "\n",
    "Now it's time to combine everything we learned so far. By combining these techniques we can write quite complex programs.\n",
    "\n",
    "Lets say we have a list of names. How many of the names start with the letter E?\n",
    "\n",
    "This is how you do it in principle:\n",
    "\n",
    "1. You go through the list, name by name, with a `for` loop.\n",
    "2. For each name, you extract the first letter.\n",
    "3. If the first letter is an \"E\", you increase a counter with 1.\n",
    "\n",
    "That's it!"
   ]
  },
  {
   "cell_type": "code",
   "execution_count": null,
   "metadata": {
    "collapsed": true
   },
   "outputs": [],
   "source": [
    "# Long list with names.\n",
    "names = [\"Adelia\", \"Agustin\", \"Ahmed\", \"Alethea\", \"Aline\", \"Alton\", \"Annett\", \"Arielle\", \"Billie\", \n",
    "         \"Blake\", \"Brianne\", \"Bronwyn\", \"Charlesetta\", \"Cleopatra\", \"Colene\", \"Corina\", \"Cruz\", \n",
    "         \"Curt\", \"Dawn\", \"Delisa\", \"Dolores\", \"Doloris\", \"Dominic\", \"Donetta\", \"Dusti\", \"Edna\", \n",
    "         \"Eliana\", \"Elna\", \"Emma\", \"Eugenio\", \"Francie\", \"Francisca\", \"Georgeanna\", \"Gerald\", \n",
    "         \"Gerry\", \"Gisele\", \"Hee\", \"Heidy\", \"Howard\", \"Iris\", \"Irving\", \"Izola\", \"Ja\", \"Jacinta\", \n",
    "         \"Jamey\", \"Jana\", \"Jeanie\", \"Jeffry\", \"Joeann\", \"Jonna\", \"Juliann\", \"Kacey\", \"Kandra\", \n",
    "         \"Karissa\", \"Kecia\", \"Kisha\", \"Leila\", \"Leslee\", \"Lisbeth\", \"Lizzette\", \"Lorie\", \"Luanna\", \n",
    "         \"Lynelle\", \"Lynna\", \"Lynnette\", \"Maire\", \"Maricela\", \"Mario\", \"Marsha\", \"Maxwell\", \n",
    "         \"Meggan\", \"Miquel\", \"Mireya\", \"Nakisha\", \"Natacha\", \"Nathanial\", \"Niesha\", \"Norberto\", \n",
    "         \"Norene\", \"Patrick\", \"Phoebe\", \"Phylicia\", \"Rashad\", \"Reatha\", \"Rebecka\", \"Renate\", \"Riley\", \n",
    "         \"Rochel\", \"Sadie\", \"Shawanna\", \"Sherri\", \"Sunshine\", \"Tamala\", \"Tish\", \"Vincent\", \"Yun\"]"
   ]
  },
  {
   "cell_type": "code",
   "execution_count": null,
   "metadata": {
    "collapsed": false
   },
   "outputs": [],
   "source": [
    "# Create a variable that counts the number of names.\n",
    "count = 0\n",
    "\n",
    "for current_name in names:         # For loop that goes through each name in the list \"names\".\n",
    "    if current_name[0] == \"E\":     # Is the first character the letter E?\n",
    "        count = count + 1          # Add 1 to the variable \"counter\".\n",
    "\n",
    "print(\"There are \" + str(count) + \" names that starts with the letter 'E'.\")"
   ]
  },
  {
   "cell_type": "code",
   "execution_count": null,
   "metadata": {
    "collapsed": false
   },
   "outputs": [],
   "source": [
    "# Lets create a function so we can reuse the code.\n",
    "# The function takes to inputs (names and letters),\n",
    "# which is a list of names and the letter we want to look for.\n",
    "def countnames(names, letter):\n",
    "    count = 0                          # Create a variable that counts the number of names.\n",
    "    for current_name in names:         # For loop that goes through each name in the list \"names\".\n",
    "        if current_name[0] == letter:  # Is the first character the letter stored in the variable \"letter\"?\n",
    "            count = count + 1          # Add 1 to the variable \"counter\".\n",
    "    return(count)                      # At last, we return the counter.\n",
    "\n",
    "# Call the functions with different letters (and save the results to variables).\n",
    "e = countnames(names, \"E\")\n",
    "f = countnames(names, \"F\")\n",
    "p = countnames(names, \"P\")\n",
    "\n",
    "# Print the results.\n",
    "print(\"There are \" + str(e) + \" names that starts with the letter 'E'.\")\n",
    "print(\"There are \" + str(f) + \" names that starts with the letter 'F'.\")\n",
    "print(\"There are \" + str(p) + \" names that starts with the letter 'P'.\")"
   ]
  }
 ],
 "metadata": {
  "anaconda-cloud": {},
  "kernelspec": {
   "display_name": "Python [default]",
   "language": "python",
   "name": "python3"
  },
  "language_info": {
   "codemirror_mode": {
    "name": "ipython",
    "version": 3
   },
   "file_extension": ".py",
   "mimetype": "text/x-python",
   "name": "python",
   "nbconvert_exporter": "python",
   "pygments_lexer": "ipython3",
   "version": "3.5.2"
  }
 },
 "nbformat": 4,
 "nbformat_minor": 0
}
