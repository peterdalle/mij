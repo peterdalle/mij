{
 "cells": [
  {
   "cell_type": "markdown",
   "metadata": {},
   "source": [
    "# News robot\n",
    "\n",
    "A simple and stupid news robot written in Python that takes some earthquake data (which we will just assume) and writes a news article based on that data."
   ]
  },
  {
   "cell_type": "markdown",
   "metadata": {},
   "source": [
    "## 1. Input data\n",
    "\n",
    "Lets say we have these earthquake data that comes from somwehere."
   ]
  },
  {
   "cell_type": "code",
   "execution_count": null,
   "metadata": {
    "collapsed": true
   },
   "outputs": [],
   "source": [
    "# Import datetime to use dates.\n",
    "from datetime import *"
   ]
  },
  {
   "cell_type": "code",
   "execution_count": null,
   "metadata": {
    "collapsed": true
   },
   "outputs": [],
   "source": [
    "# The data comes in a dictionary (key-value pairs). Note that it looks just like JSON!\n",
    "data = {\n",
    "        \"Richter\": 7.5,\n",
    "        \"Latitud\": 12,\n",
    "        \"Longitud\": 12,\n",
    "        \"City\": \"Gothenburg\",\n",
    "        \"Country\": \"Sweden\",\n",
    "        \"Datetime\": \"2017-02-01 22:15:43\"\n",
    "       }"
   ]
  },
  {
   "cell_type": "markdown",
   "metadata": {},
   "source": [
    "## 2. Check for errors\n",
    "\n",
    "Don't assume that the data is always good. Create tests to make sure."
   ]
  },
  {
   "cell_type": "code",
   "execution_count": null,
   "metadata": {
    "collapsed": false
   },
   "outputs": [],
   "source": [
    "# We start with the assumption that the data is news worthy.\n",
    "IsNewsWorthy = True\n",
    "\n",
    "# Are there errors in the data? \n",
    "if data[\"Richter\"] > 100:\n",
    "    # A earthquake with magnitue of 100 seems unlikely, so we ignore it.\n",
    "    IsNewsWorthy = False\n",
    "\n",
    "# We are only interested in earthquakes in Sweden.\n",
    "if data[\"Country\"] != \"Sweden\":\n",
    "    IsNewsWorthy = False"
   ]
  },
  {
   "cell_type": "markdown",
   "metadata": {},
   "source": [
    "## 3. Create text\n",
    "\n",
    "Basically, it's just a lot of `if`-statements.\n",
    "\n",
    "How to make the code easier to read:\n",
    "\n",
    "1. Don't nest `if`-statements inside each other too much. Use `elif` instead.\n",
    "2. Use multiline strings, with `\"\"\"` around them.\n",
    "3. Use `.format` on strings.\n",
    "\n",
    "```\n",
    "text = \"My name is {0} and I am {1} years old\"\n",
    "text = text.format(Name, Age)\n",
    "```\n",
    "\n",
    "Which is the same as this:\n",
    "\n",
    "```\n",
    "text = \"My name is \" + Name + \" and I am \" + str(Age) + \" years old\"\n",
    "```"
   ]
  },
  {
   "cell_type": "code",
   "execution_count": null,
   "metadata": {
    "collapsed": false
   },
   "outputs": [],
   "source": [
    "# If the earthquake is deemed news worthy, then create a journalistic text.\n",
    "text = \"\"\n",
    "if IsNewsWorthy:\n",
    "    if (data[\"Richter\"] > 6):\n",
    "        # Text for large quake (6+).\n",
    "        text = \"\"\"BREAKING: Major earthquake in {0}\n",
    "            \n",
    "Today at {1} there was a severe earthquake in {2}, {3}, with a magnitude of {4} on the Richter scale.\n",
    "\n",
    "\"\"\"\n",
    "        text = text.format(data[\"City\"], data[\"Datetime\"], data[\"City\"], data[\"Country\"], data[\"Richter\"])\n",
    "    elif (data[\"Richter\"] < 6 or data[\"Richter\"] >= 3):\n",
    "        # Text for medium quake (3-5).\n",
    "        text = \"\"\"Earthquake in {0}\n",
    "            \n",
    "Today at {1} there was a earthquake in {2}, {3}, with a magnitude of {4} on the Richter scale.\n",
    "\n",
    "\"\"\"\n",
    "        text = text.format(data[\"City\"], data[\"Datetime\"], data[\"City\"], data[\"Country\"], data[\"Richter\"])\n",
    "\n",
    "    # Add this at the end of all texts.\n",
    "    text = text + \"Published \" + datetime.now().strftime(\"%Y-%m-%d %H:%M\") + \" by Ada the news robot\""
   ]
  },
  {
   "cell_type": "code",
   "execution_count": null,
   "metadata": {
    "collapsed": false
   },
   "outputs": [],
   "source": [
    "# Look at the text\n",
    "print(text)"
   ]
  },
  {
   "cell_type": "markdown",
   "metadata": {},
   "source": [
    "## 4. Save the results to a text file\n",
    "\n",
    "Lets create a function that saves the text to a file."
   ]
  },
  {
   "cell_type": "code",
   "execution_count": null,
   "metadata": {
    "collapsed": true
   },
   "outputs": [],
   "source": [
    "# Function to save the text to a file.\n",
    "def savefile(filename, text):\n",
    "    f = open(filename, mode=\"w\")   # Open file for writing (w = writing, a = append, r = reading)\n",
    "    f.write(text)\n",
    "    f.close()"
   ]
  },
  {
   "cell_type": "code",
   "execution_count": null,
   "metadata": {
    "collapsed": false
   },
   "outputs": [],
   "source": [
    "# Only save as text file if there is some text.\n",
    "if text != \"\":\n",
    "    savefile(\"newsrobot-earthquake.txt\", text)\n",
    "    print(\"Text published!\")\n",
    "else:\n",
    "    print(\"Text is not published.\")"
   ]
  },
  {
   "cell_type": "markdown",
   "metadata": {},
   "source": [
    "## 5. Present the results (read from text file)\n",
    "\n",
    "Lets create a function that reads the text from the text file."
   ]
  },
  {
   "cell_type": "code",
   "execution_count": null,
   "metadata": {
    "collapsed": true
   },
   "outputs": [],
   "source": [
    "# Function that reads text from a file.\n",
    "def readfile(filename):\n",
    "    f = open(filename, mode=\"r\")   # Open file for reading (w = writing, a = append, r = reading)\n",
    "    lines = f.read()\n",
    "    f.close()\n",
    "    return(lines)"
   ]
  },
  {
   "cell_type": "code",
   "execution_count": null,
   "metadata": {
    "collapsed": false
   },
   "outputs": [],
   "source": [
    "# Read the file created earlier by the news robot.\n",
    "text = readfile(\"newsrobot-earthquake.txt\")"
   ]
  },
  {
   "cell_type": "code",
   "execution_count": null,
   "metadata": {
    "collapsed": false
   },
   "outputs": [],
   "source": [
    "# Look at the text from the file.\n",
    "print(text)"
   ]
  },
  {
   "cell_type": "markdown",
   "metadata": {},
   "source": [
    "# Exercise\n",
    "\n",
    "Modify the code so that the robot writes a text based on these decisions:\n",
    "\n",
    "- Richter under 0.5 - Don't write anything.\n",
    "- Richter 0.5 to 2.0 - Small print on the news site.\n",
    "- Richter 2.0 to 4.0 - Front page.\n",
    "- Richter above 4.0 - Front page, breaking news."
   ]
  }
 ],
 "metadata": {
  "anaconda-cloud": {},
  "kernelspec": {
   "display_name": "Python [default]",
   "language": "python",
   "name": "python3"
  },
  "language_info": {
   "codemirror_mode": {
    "name": "ipython",
    "version": 3
   },
   "file_extension": ".py",
   "mimetype": "text/x-python",
   "name": "python",
   "nbconvert_exporter": "python",
   "pygments_lexer": "ipython3",
   "version": "3.5.2"
  }
 },
 "nbformat": 4,
 "nbformat_minor": 0
}
