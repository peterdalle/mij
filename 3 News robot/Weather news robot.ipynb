{
 "cells": [
  {
   "cell_type": "markdown",
   "metadata": {},
   "source": [
    "# Weather news robot\n",
    "\n",
    "A simple and stupid news robot written in Python that scrapes tomorrows weather and writes a short text complaining about how cold it is."
   ]
  },
  {
   "cell_type": "markdown",
   "metadata": {},
   "source": [
    "## 1. Import libraries"
   ]
  },
  {
   "cell_type": "code",
   "execution_count": null,
   "metadata": {
    "collapsed": true
   },
   "outputs": [],
   "source": [
    "# Import all the things!\n",
    "import urllib.request\n",
    "from datetime import *\n",
    "from lxml import html\n",
    "from bs4 import BeautifulSoup"
   ]
  },
  {
   "cell_type": "markdown",
   "metadata": {},
   "source": [
    "## 2. Define scraping functions"
   ]
  },
  {
   "cell_type": "code",
   "execution_count": null,
   "metadata": {
    "collapsed": true
   },
   "outputs": [],
   "source": [
    "# Scrape all HTML from webpage.\n",
    "def scrapewebpage(url):\n",
    "\t# Open URL and get HTML.\n",
    "\tweb = urllib.request.urlopen(url)\n",
    "\n",
    "\t# Make sure there wasn't any errors opening the URL.\n",
    "\tif (web.getcode() == 200):\n",
    "\t\thtml = web.read()\n",
    "\t\treturn(html)\n",
    "\telse:\n",
    "\t\tprint(\"Error %s reading %s\" % str(web.getcode()), url)\n",
    "\n",
    "# Helper function that scrape the webpage and turn it into soup.\n",
    "def makesoup(url):\n",
    "\thtml = scrapewebpage(url)\n",
    "\treturn(BeautifulSoup(html, \"lxml\"))"
   ]
  },
  {
   "cell_type": "markdown",
   "metadata": {},
   "source": [
    "## 3. Scrape weather\n",
    "\n",
    "We'll scrape tomorrows weather from <http://www.weatherpal.se/vader/Goteborg-2711537/>"
   ]
  },
  {
   "cell_type": "code",
   "execution_count": null,
   "metadata": {
    "collapsed": false
   },
   "outputs": [],
   "source": [
    "weather_soup = makesoup(\"http://www.weatherpal.se/vader/Goteborg-2711537/\")"
   ]
  },
  {
   "cell_type": "code",
   "execution_count": null,
   "metadata": {
    "collapsed": false
   },
   "outputs": [],
   "source": [
    "# Get minimium and maximum temperatures for the next 6 days.\n",
    "soup_min_temps = weather_soup.find_all(\"div\", \"min-temp\")\n",
    "soup_max_temps = weather_soup.find_all(\"div\", \"max-temp\")\n",
    "\n",
    "# Create empty lists to store temperatures.\n",
    "min_temps = []\n",
    "max_temps = []\n",
    "\n",
    "# For each minimum temperature, put it in a list.\n",
    "for temp in soup_min_temps:\n",
    "    min_temps.append(temp.get_text())\n",
    "\n",
    "# For each maxiumum temperature, put it in a list.\n",
    "for temp in soup_max_temps:\n",
    "    max_temps.append(temp.get_text())"
   ]
  },
  {
   "cell_type": "code",
   "execution_count": null,
   "metadata": {
    "collapsed": false,
    "scrolled": true
   },
   "outputs": [],
   "source": [
    "# Lets check tomorrows weather.\n",
    "print(\"Min celsius: \" + min_temps[0])\n",
    "print(\"Max celsius: \" + max_temps[0])"
   ]
  },
  {
   "cell_type": "code",
   "execution_count": null,
   "metadata": {
    "collapsed": false
   },
   "outputs": [],
   "source": [
    "# What date is it tomorrow?\n",
    "tomorrow = datetime.today() + timedelta(days=1)\n",
    "\n",
    "# Name of weekdays.\n",
    "weekdays = [\"Monday\", \"Tuesday\", \"Wednesday\", \"Thursday\", \"Saturday\", \"Sunday\"]"
   ]
  },
  {
   "cell_type": "code",
   "execution_count": null,
   "metadata": {
    "collapsed": true
   },
   "outputs": [],
   "source": [
    "# Use simpler names.\n",
    "tomorrow_weekday = weekdays[tomorrow.weekday()]\n",
    "tomorrow_mintemp = int(min_temps[0])\n",
    "tomorrow_maxtemp = int(max_temps[0])"
   ]
  },
  {
   "cell_type": "markdown",
   "metadata": {},
   "source": [
    "## 4. Check for errors\n",
    "\n",
    "Don't assume that the data is always good. Create tests to make sure."
   ]
  },
  {
   "cell_type": "code",
   "execution_count": null,
   "metadata": {
    "collapsed": false
   },
   "outputs": [],
   "source": [
    "# We start with the assumption that the data is news worthy.\n",
    "IsNewsWorthy = True\n",
    "\n",
    "# Are there errors in the data? \n",
    "if tomorrow_mintemp < -40:\n",
    "    IsNewsWorthy = False\n",
    "elif tomorrow_maxtemp > 60:\n",
    "    IsNewsWorthy = False"
   ]
  },
  {
   "cell_type": "code",
   "execution_count": null,
   "metadata": {
    "collapsed": false
   },
   "outputs": [],
   "source": [
    "IsNewsWorthy"
   ]
  },
  {
   "cell_type": "markdown",
   "metadata": {},
   "source": [
    "## 5. Create text\n",
    "\n",
    "Basically, it's just a lot of `if`-statements.\n",
    "\n",
    "How to make the code easier to read:\n",
    "\n",
    "1. Don't nest `if`-statements inside each other too much. Use `elif` instead.\n",
    "2. Use multiline strings, with `\"\"\"` around them.\n",
    "3. Use `.format` on strings.\n",
    "\n",
    "```\n",
    "text = \"My name is {0} and I am {1} years old\"\n",
    "text = text.format(Name, Age)\n",
    "```\n",
    "\n",
    "Which is the same as this:\n",
    "\n",
    "```\n",
    "text = \"My name is \" + Name + \" and I am \" + str(Age) + \" years old\"\n",
    "```"
   ]
  },
  {
   "cell_type": "code",
   "execution_count": null,
   "metadata": {
    "collapsed": false
   },
   "outputs": [],
   "source": [
    "text = \"\"\n",
    "if IsNewsWorthy:\n",
    "    if (tomorrow_mintemp < 0):\n",
    "        text = \"At {0} it will be freezing. The temperature will be {1} celsius, {2} at max.\"\n",
    "        text = text.format(tomorrow_weekday, tomorrow_mintemp, tomorrow_maxtemp)\n",
    "    elif (tomorrow_mintemp == 0):\n",
    "        text = \"At {0} it will be just above freezing point. The temperature will be between {1} and {2} celsius.\"\n",
    "        text = text.format(tomorrow_weekday, tomorrow_mintemp, tomorrow_maxtemp)\n",
    "    elif (tomorrow_mintemp > 0 and tomorrow_mintemp < 7):\n",
    "        text = \"Tomorrow, {0}, we will not freeze our socks off. Fortunately, the temperature will go down to {1} celsius but hopefully rise up to the maximum of {2}.\"\n",
    "        text = text.format(tomorrow_weekday, tomorrow_mintemp, tomorrow_maxtemp)\n",
    "    elif (tomorrow_mintemp > 7):\n",
    "        text = \"Tomorrow, {0}, it will be quite warm. Fortunately, the temperature will be {1} celsius at minimum, {2} maximum.\"\n",
    "        text = text.format(tomorrow_weekday, tomorrow_mintemp, tomorrow_maxtemp)\n",
    "        \n",
    "    # Add this at the end of all texts.\n",
    "    text = text + \"\\n\\n\" + \"Published \" + datetime.now().strftime(\"%Y-%m-%d %H:%M\") + \" by Ada the news robot\""
   ]
  },
  {
   "cell_type": "code",
   "execution_count": null,
   "metadata": {
    "collapsed": false
   },
   "outputs": [],
   "source": [
    "# Look at the text\n",
    "print(text)"
   ]
  },
  {
   "cell_type": "markdown",
   "metadata": {},
   "source": [
    "## 6. Save the results to a text file\n",
    "\n",
    "Lets create a function that saves the text to a file."
   ]
  },
  {
   "cell_type": "code",
   "execution_count": null,
   "metadata": {
    "collapsed": true
   },
   "outputs": [],
   "source": [
    "# Function to save the text to a file.\n",
    "def savefile(filename, text):\n",
    "    f = open(filename, mode=\"w\")   # Open file for writing (w = writing, a = append, r = reading)\n",
    "    f.write(text)\n",
    "    f.close()"
   ]
  },
  {
   "cell_type": "code",
   "execution_count": null,
   "metadata": {
    "collapsed": false
   },
   "outputs": [],
   "source": [
    "# Only save as text file if there is some text.\n",
    "if text != \"\":\n",
    "    savefile(\"newsrobot-weather.txt\", text)\n",
    "    print(\"Text published!\")\n",
    "else:\n",
    "    print(\"Text is not published.\")"
   ]
  },
  {
   "cell_type": "markdown",
   "metadata": {},
   "source": [
    "## 7. Present the results (read from text file)\n",
    "\n",
    "Lets create a function that reads the text from the text file."
   ]
  },
  {
   "cell_type": "code",
   "execution_count": null,
   "metadata": {
    "collapsed": true
   },
   "outputs": [],
   "source": [
    "# Function that reads text from a file.\n",
    "def readfile(filename):\n",
    "    f = open(filename, mode=\"r\")   # Open file for reading (w = writing, a = append, r = reading)\n",
    "    lines = f.read()\n",
    "    f.close()\n",
    "    return(lines)"
   ]
  },
  {
   "cell_type": "code",
   "execution_count": null,
   "metadata": {
    "collapsed": false
   },
   "outputs": [],
   "source": [
    "# Read the file created earlier by the news robot.\n",
    "text = readfile(\"newsrobot-weather.txt\")"
   ]
  },
  {
   "cell_type": "code",
   "execution_count": null,
   "metadata": {
    "collapsed": false
   },
   "outputs": [],
   "source": [
    "# Look at the text from the file.\n",
    "print(text)"
   ]
  },
  {
   "cell_type": "markdown",
   "metadata": {},
   "source": [
    "# Assignment\n",
    "\n",
    "Work in pairs, or alone if you prefer.\n",
    "\n",
    "1. Find some web source you find interesting.\n",
    "2. Extract at least 1 piece of data. It has to be able to vary, it cannot be a constant.\n",
    "3. Decide how to write the text based on that piece of data.\n",
    "4. Save the data to a text file. Don't forget to put your name in the text file!\n",
    "\n",
    "Note, the quality of the text is not important for this assignment.\n",
    "\n",
    "You can use all the code we worked with. You just need to modify it! \n",
    "\n",
    "**Deadline:** See the study guide.\n",
    "\n",
    "**Format:** Send in the Jupyter Notebook, or send in a Python file (`.py`)."
   ]
  }
 ],
 "metadata": {
  "anaconda-cloud": {},
  "kernelspec": {
   "display_name": "Python [default]",
   "language": "python",
   "name": "python3"
  },
  "language_info": {
   "codemirror_mode": {
    "name": "ipython",
    "version": 3
   },
   "file_extension": ".py",
   "mimetype": "text/x-python",
   "name": "python",
   "nbconvert_exporter": "python",
   "pygments_lexer": "ipython3",
   "version": "3.5.2"
  }
 },
 "nbformat": 4,
 "nbformat_minor": 0
}
