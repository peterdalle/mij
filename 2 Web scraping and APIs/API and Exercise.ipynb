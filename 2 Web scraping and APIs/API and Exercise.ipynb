{
 "cells": [
  {
   "cell_type": "markdown",
   "metadata": {},
   "source": [
    "# Consuming API\n",
    "\n",
    "Instead of using web scraping, using an API (application programming interface) is the preferred method.\n",
    "\n",
    "Usually, you need to register in order to use an API. But we will use a freely available API called [Open Movie Database API](http://www.omdbapi.com/)."
   ]
  },
  {
   "cell_type": "markdown",
   "metadata": {},
   "source": [
    "## 1. Install Python library\n",
    "\n",
    "There alredy exists a Python library for the Open Movie Database API, called [omdb](https://pypi.python.org/pypi/omdb/0.4.0).\n",
    "\n",
    "Install it with `pip`."
   ]
  },
  {
   "cell_type": "code",
   "execution_count": null,
   "metadata": {
    "collapsed": false
   },
   "outputs": [],
   "source": [
    "!pip install omdb"
   ]
  },
  {
   "cell_type": "markdown",
   "metadata": {},
   "source": [
    "## 2. Accessing the API"
   ]
  },
  {
   "cell_type": "code",
   "execution_count": null,
   "metadata": {
    "collapsed": false
   },
   "outputs": [],
   "source": [
    "# Import the library.\n",
    "import omdb"
   ]
  },
  {
   "cell_type": "code",
   "execution_count": null,
   "metadata": {
    "collapsed": true
   },
   "outputs": [],
   "source": [
    "# Search for movies.\n",
    "movies = omdb.search(\"Westworld\")"
   ]
  },
  {
   "cell_type": "code",
   "execution_count": null,
   "metadata": {
    "collapsed": false
   },
   "outputs": [],
   "source": [
    "movies"
   ]
  },
  {
   "cell_type": "markdown",
   "metadata": {},
   "source": [
    "## 3. Present the results nicely"
   ]
  },
  {
   "cell_type": "code",
   "execution_count": null,
   "metadata": {
    "collapsed": false,
    "scrolled": false
   },
   "outputs": [],
   "source": [
    "# Since \"movies\" is a list, we can loop through it.\n",
    "for movie in movies:\n",
    "    print(\"Title: \" + movie[\"title\"])\n",
    "    print(\"Type: \" + movie[\"type\"])\n",
    "    print(\"Year: \" + movie[\"year\"])\n",
    "    print(\"Link: http://imdb.com/title/\" + movie[\"imdb_id\"])\n",
    "    print()"
   ]
  },
  {
   "cell_type": "code",
   "execution_count": null,
   "metadata": {
    "collapsed": false,
    "scrolled": true
   },
   "outputs": [],
   "source": [
    "# Lets pick the first movie (remember, lists always start at 0).\n",
    "movie = movies[0]\n",
    "\n",
    "print(movie[\"title\"])\n",
    "print(movie[\"year\"])"
   ]
  },
  {
   "cell_type": "markdown",
   "metadata": {},
   "source": [
    "## 4. Get more info"
   ]
  },
  {
   "cell_type": "code",
   "execution_count": null,
   "metadata": {
    "collapsed": false,
    "scrolled": true
   },
   "outputs": [],
   "source": [
    "# Instead of searching (and get a list of movies), we can specify the movie we want (and get a single movie).\n",
    "movie = omdb.title(\"Westworld\", year=\"2016\")"
   ]
  },
  {
   "cell_type": "code",
   "execution_count": null,
   "metadata": {
    "collapsed": false
   },
   "outputs": [],
   "source": [
    "movie"
   ]
  },
  {
   "cell_type": "code",
   "execution_count": null,
   "metadata": {
    "collapsed": false
   },
   "outputs": [],
   "source": [
    "# Present some basic info about this movie.\n",
    "print(movie[\"title\"])\n",
    "print(movie[\"year\"])\n",
    "print(movie[\"country\"])\n",
    "print(\"Rating: \" + movie[\"imdb_rating\"])\n",
    "print(movie[\"plot\"])"
   ]
  },
  {
   "cell_type": "markdown",
   "metadata": {},
   "source": [
    "# Exercise\n",
    "\n",
    "1. Pick your favorite movie or tv-series, and search for it.\n",
    "2. We used `movie[\"title\"]` to show the title of the movie. Show something else! The [documentation](https://pypi.python.org/pypi/omdb/0.4.0) says so can get this info:\n",
    "\n",
    "    - title\n",
    "    - year\n",
    "    - type\n",
    "    - actors\n",
    "    - awards\n",
    "    - country\n",
    "    - director\n",
    "    - genre\n",
    "    - episode\n",
    "    - season\n",
    "    - series_id\n",
    "    - language\n",
    "    - metascore\n",
    "    - plot\n",
    "    - poster\n",
    "    - rated\n",
    "    - released\n",
    "    - runtime\n",
    "    - writer\n",
    "    - imdb_id\n",
    "    - imdb_rating\n",
    "    - imdb_votes\n",
    "    - box_office\n",
    "    - dvd\n",
    "    - production\n",
    "    - website\n",
    "    - tomato_consensus\n",
    "    - tomato_fresh\n",
    "    - tomato_image\n",
    "    - tomato_meter\n",
    "    - tomato_rating\n",
    "    - tomato_reviews\n",
    "    - tomato_rotten\n",
    "    - tomato_user_meter\n",
    "    - tomato_user_rating\n",
    "    - tomato_user_reviews"
   ]
  },
  {
   "cell_type": "code",
   "execution_count": null,
   "metadata": {
    "collapsed": false
   },
   "outputs": [],
   "source": [
    "# Modify this.\n",
    "\n",
    "# Get single movie/tv-series.\n",
    "movie = omdb.title(\"Westworld\", year=\"2016\")\n",
    "print(movie[\"title\"])"
   ]
  }
 ],
 "metadata": {
  "kernelspec": {
   "display_name": "Python [default]",
   "language": "python",
   "name": "python3"
  },
  "language_info": {
   "codemirror_mode": {
    "name": "ipython",
    "version": 3
   },
   "file_extension": ".py",
   "mimetype": "text/x-python",
   "name": "python",
   "nbconvert_exporter": "python",
   "pygments_lexer": "ipython3",
   "version": "3.5.2"
  }
 },
 "nbformat": 4,
 "nbformat_minor": 0
}
